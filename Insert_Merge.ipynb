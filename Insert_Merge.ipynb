{
  "nbformat": 4,
  "nbformat_minor": 0,
  "metadata": {
    "colab": {
      "provenance": [],
      "authorship_tag": "ABX9TyNzz/bH8wj2AhRYAqSjkUGg",
      "include_colab_link": true
    },
    "kernelspec": {
      "name": "python3",
      "display_name": "Python 3"
    },
    "language_info": {
      "name": "python"
    }
  },
  "cells": [
    {
      "cell_type": "markdown",
      "metadata": {
        "id": "view-in-github",
        "colab_type": "text"
      },
      "source": [
        "<a href=\"https://colab.research.google.com/github/HanzhouLiu/Crosswalk_Recognition_Model/blob/main/Insert_Merge.ipynb\" target=\"_parent\"><img src=\"https://colab.research.google.com/assets/colab-badge.svg\" alt=\"Open In Colab\"/></a>"
      ]
    },
    {
      "cell_type": "markdown",
      "source": [
        "merge intervals"
      ],
      "metadata": {
        "id": "cERgFgOxL09q"
      }
    },
    {
      "cell_type": "code",
      "execution_count": 12,
      "metadata": {
        "colab": {
          "base_uri": "https://localhost:8080/"
        },
        "id": "_JdwMoJaLvt5",
        "outputId": "b3164b6f-339b-47bd-f90d-366306e57ff3"
      },
      "outputs": [
        {
          "output_type": "stream",
          "name": "stdout",
          "text": [
            "[[1, 9], [2, 4], [4, 7], [6, 8]]\n",
            "True\n",
            "[[1, 9]]\n",
            "True\n",
            "[[1, 9]]\n",
            "True\n",
            "[[1, 9]]\n",
            "[1, 9]\n"
          ]
        }
      ],
      "source": [
        "def mergeIntervals(intervals):\n",
        "    # Sort the array on the basis of start values of intervals.\n",
        "    intervals.sort()\n",
        "    stack = []\n",
        "    # insert first interval into stack\n",
        "    stack.append(intervals[0])\n",
        "    print(intervals)\n",
        "    for i in intervals[1:]:\n",
        "        # Check for overlapping interval,\n",
        "        # if interval overlap\n",
        "        if stack[-1][0] <= i[0] <= stack[-1][-1]:\n",
        "            stack[-1][-1] = max(stack[-1][-1], i[-1])\n",
        "            print(True)\n",
        "        else:\n",
        "            stack.append(i)\n",
        "        print(stack)\n",
        " \n",
        "    #print(\"The Merged Intervals are :\", end=\" \")\n",
        "    for i in range(len(stack)):\n",
        "        print(stack[i])\n",
        "        #print(stack[i], end=\" \")\n",
        " \n",
        " \n",
        "arr = [[6, 8], [1, 9], [2, 4], [4, 7]]\n",
        "mergeIntervals(arr)"
      ]
    },
    {
      "cell_type": "code",
      "source": [
        "# Python program to merge overlapping Intervals in\n",
        "# O(n Log n) time and O(1) extra space\n",
        " \n",
        " \n",
        "def mergeIntervals(arr):\n",
        " \n",
        "    # Sorting based on the increasing order\n",
        "    # of the start intervals\n",
        "    arr.sort(key=lambda x: x[0])\n",
        "    print(arr)\n",
        "    # Stores index of last element\n",
        "    # in output array (modified arr[])\n",
        "    index = 0\n",
        " \n",
        "    # Traverse all input Intervals starting from\n",
        "    # second interval\n",
        "    for i in range(1, len(arr)):\n",
        " \n",
        "        # If this is not first Interval and overlaps\n",
        "        # with the previous one, Merge previous and\n",
        "        # current Intervals\n",
        "        if (arr[index][1] >= arr[i][0]):\n",
        "            arr[index][1] = max(arr[index][1], arr[i][1])\n",
        "        else:\n",
        "            index = index + 1\n",
        "            arr[index] = arr[i]\n",
        "    print(arr[:index + 1])\n",
        "    \n",
        " \n",
        " \n",
        "# Driver code\n",
        "arr = [[6, 8], [1, 9], [2, 4], [4, 7]]\n",
        "mergeIntervals(arr)"
      ],
      "metadata": {
        "colab": {
          "base_uri": "https://localhost:8080/"
        },
        "id": "UdsauhORL4n6",
        "outputId": "8286fe10-0b96-4748-88e7-41091d060076"
      },
      "execution_count": 16,
      "outputs": [
        {
          "output_type": "stream",
          "name": "stdout",
          "text": [
            "[[1, 9], [2, 4], [4, 7], [6, 8]]\n",
            "[[1, 9]]\n"
          ]
        }
      ]
    },
    {
      "cell_type": "markdown",
      "source": [
        "\n",
        "\n",
        "```\n",
        "Input: intervals = [[1,2],[3,5],[6,7],[8,10],[12,16]], newInterval = [4,8]\n",
        "Output: [[1,2],[3,10],[12,16]]\n",
        "Explanation: Because the new interval [4,8] overlaps with [3,5],[6,7],[8,10].\n",
        "```"
      ],
      "metadata": {
        "id": "bObE4w4_QNcW"
      }
    },
    {
      "cell_type": "code",
      "source": [
        "# Time complexity: O(nlogn); space complexity: O(1)\n",
        "class Solution(object):\n",
        "    def insert(self, intervals, newInterval):\n",
        "        \"\"\"\n",
        "        :type intervals: List[List[int]]\n",
        "        :type newInterval: List[int]\n",
        "        :rtype: List[List[int]]\n",
        "        \"\"\"\n",
        "        # sort the array, time: O(nlogn)\n",
        "        intervals.append(newInterval)\n",
        "        intervals.sort()\n",
        "        \n",
        "        index = 0\n",
        "        for intv in intervals[1:]:\n",
        "            if intervals[index][0] <= intv[0] <= intervals[index][1]:\n",
        "                intervals[index][1] = max(intervals[index][1], intv[1])\n",
        "            else:\n",
        "                index += 1\n",
        "                intervals[index] = intv\n",
        "        return intervals[:index + 1]"
      ],
      "metadata": {
        "id": "OV5M5_8BQZ8u"
      },
      "execution_count": null,
      "outputs": []
    },
    {
      "cell_type": "code",
      "source": [
        "print(list([1,2] + [1]))"
      ],
      "metadata": {
        "colab": {
          "base_uri": "https://localhost:8080/"
        },
        "id": "TeOnW4gVYWQB",
        "outputId": "cb74be1b-7e48-4019-da04-37f332776f40"
      },
      "execution_count": 19,
      "outputs": [
        {
          "output_type": "stream",
          "name": "stdout",
          "text": [
            "[1, 2, 1]\n"
          ]
        }
      ]
    }
  ]
}